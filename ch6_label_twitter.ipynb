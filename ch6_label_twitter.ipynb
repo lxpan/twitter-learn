{
 "cells": [
  {
   "cell_type": "code",
   "execution_count": 32,
   "metadata": {
    "collapsed": false
   },
   "outputs": [],
   "source": [
    "import os\n",
    "input_filename = os.path.join(os.path.expanduser(\"~\"), \"Data\", \"research\", \"python_tweets.json\")\n",
    "labels_filename = os.path.join(os.path.expanduser(\"~\"), \"Data\", \"research\", \"python_classes.json\")"
   ]
  },
  {
   "cell_type": "code",
   "execution_count": 33,
   "metadata": {
    "collapsed": true
   },
   "outputs": [],
   "source": [
    "import json\n",
    "\n",
    "tweets = []\n",
    "\n",
    "with open(input_filename) as inf:\n",
    "    for line in inf:\n",
    "        # only load lines without line-separating whitespace\n",
    "        if len(line.strip()) == 0:\n",
    "            continue\n",
    "        tweets.append(json.loads(line))"
   ]
  },
  {
   "cell_type": "code",
   "execution_count": 34,
   "metadata": {
    "collapsed": true
   },
   "outputs": [],
   "source": [
    "labels = []\n",
    "if os.path.exists(labels_filename):\n",
    "    with open(labels_filename) as inf:\n",
    "        labels = json.load(inf)"
   ]
  },
  {
   "cell_type": "code",
   "execution_count": 35,
   "metadata": {
    "collapsed": true
   },
   "outputs": [],
   "source": [
    "def get_next_tweet():\n",
    "    return tweets[len(labels)]['text']"
   ]
  },
  {
   "cell_type": "code",
   "execution_count": 36,
   "metadata": {
    "collapsed": false
   },
   "outputs": [
    {
     "data": {
      "application/javascript": [
       "\n",
       "window.set_label = function (label) {\n",
       "    var kernel = IPython.notebook.kernel; \n",
       "    kernel.execute(\"labels.append(\" + label + \")\"); \n",
       "    load_next_tweet();\n",
       "}\n",
       "\n",
       "window.load_next_tweet = function () {\n",
       "    var code_input = \"get_next_tweet()\"; \n",
       "    var kernel = IPython.notebook.kernel;\n",
       "    var callbacks = { 'iopub' : {'output' : handle_output}}; \n",
       "    kernel.execute(code_input, callbacks, {silent:false});\n",
       "}\n",
       "\n",
       "function handle_output(out){\n",
       "    var res = out.content.data[\"text/plain\"]; \n",
       "    $(\"div#tweet_text\").html(res);\n",
       "}"
      ],
      "text/plain": [
       "<IPython.core.display.Javascript object>"
      ]
     },
     "metadata": {},
     "output_type": "display_data"
    }
   ],
   "source": [
    "%%javascript\n",
    "\n",
    "window.set_label = function (label) {\n",
    "    var kernel = IPython.notebook.kernel; \n",
    "    kernel.execute(\"labels.append(\" + label + \")\"); \n",
    "    load_next_tweet();\n",
    "}\n",
    "\n",
    "window.load_next_tweet = function () {\n",
    "    var code_input = \"get_next_tweet()\"; \n",
    "    var kernel = IPython.notebook.kernel;\n",
    "    var callbacks = { 'iopub' : {'output' : handle_output}}; \n",
    "    kernel.execute(code_input, callbacks, {silent:false});\n",
    "}\n",
    "\n",
    "function handle_output(out){\n",
    "    var res = out.content.data[\"text/plain\"]; \n",
    "    $(\"div#tweet_text\").html(res);\n",
    "}"
   ]
  },
  {
   "cell_type": "code",
   "execution_count": 37,
   "metadata": {
    "collapsed": false
   },
   "outputs": [
    {
     "data": {
      "text/html": [
       "<div name=\"tweetbox\">\n",
       "Instructions: Click in text box. Enter a 1 if the tweet is\n",
       "relevant, enter 0 otherwise.<br>\n",
       "Tweet: <div id=\"tweet_text\" value=\"text\"></div><br> <input type=text id=\"capture\"></input><br>\n",
       "</div>\n",
       "\n",
       "<script> \n",
       "$(\"input#capture\").keypress(function(e) { \n",
       "if(e.which == 48) {\n",
       "    window.set_label(0);\n",
       "    $(\"input#capture\").val(\"\"); \n",
       "}else if (e.which == 49){\n",
       "    window.set_label(1);\n",
       "    $(\"input#capture\").val(\"\"); }\n",
       "});\n",
       "\n",
       "window.load_next_tweet();\n",
       "</script>"
      ],
      "text/plain": [
       "<IPython.core.display.HTML object>"
      ]
     },
     "metadata": {},
     "output_type": "display_data"
    }
   ],
   "source": [
    "%%html\n",
    "<div name=\"tweetbox\">\n",
    "Instructions: Click in text box. Enter a 1 if the tweet is\n",
    "relevant, enter 0 otherwise.<br>\n",
    "Tweet: <div id=\"tweet_text\" value=\"text\"></div><br> <input type=text id=\"capture\"></input><br>\n",
    "</div>\n",
    "\n",
    "<script> \n",
    "$(\"input#capture\").keypress(function(e) { \n",
    "if(e.which == 48) {\n",
    "    window.set_label(0);\n",
    "    $(\"input#capture\").val(\"\"); \n",
    "}else if (e.which == 49){\n",
    "    window.set_label(1);\n",
    "    $(\"input#capture\").val(\"\"); }\n",
    "});\n",
    "\n",
    "window.load_next_tweet();\n",
    "</script>"
   ]
  },
  {
   "cell_type": "code",
   "execution_count": 39,
   "metadata": {
    "collapsed": true
   },
   "outputs": [],
   "source": [
    "with open(labels_filename, 'w') as outf:\n",
    "    json.dump(labels, outf)"
   ]
  },
  {
   "cell_type": "code",
   "execution_count": 45,
   "metadata": {
    "collapsed": false
   },
   "outputs": [
    {
     "name": "stdout",
     "output_type": "stream",
     "text": [
      "\n",
      "\n"
     ]
    }
   ],
   "source": [
    "lines = 0\n",
    "with open(input_filename, 'r') as inf:\n",
    "    for line in inf:\n",
    "        lines += 1\n",
    "    print(line)"
   ]
  }
 ],
 "metadata": {
  "kernelspec": {
   "display_name": "Python 3",
   "language": "python",
   "name": "python3"
  },
  "language_info": {
   "codemirror_mode": {
    "name": "ipython",
    "version": 3
   },
   "file_extension": ".py",
   "mimetype": "text/x-python",
   "name": "python",
   "nbconvert_exporter": "python",
   "pygments_lexer": "ipython3",
   "version": "3.4.2"
  }
 },
 "nbformat": 4,
 "nbformat_minor": 0
}
