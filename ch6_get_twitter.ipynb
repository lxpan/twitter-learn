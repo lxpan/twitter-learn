{
 "cells": [
  {
   "cell_type": "code",
   "execution_count": 17,
   "metadata": {
    "collapsed": false
   },
   "outputs": [],
   "source": [
    "import twitter\n",
    "consumer_key = \"Your consumer key\"\n",
    "consumer_secret = \"Your consumer secret\"\n",
    "access_token = \"Your access token\"\n",
    "access_token_secret = \"Your access token secret\"\n",
    "\n",
    "# token, token_key, con_secret, con_secret_key\n",
    "authorization = twitter.OAuth(access_token, access_token_secret, consumer_key, consumer_secret)"
   ]
  },
  {
   "cell_type": "code",
   "execution_count": 18,
   "metadata": {
    "collapsed": false
   },
   "outputs": [
    {
     "data": {
      "text/plain": [
       "'/Users/lpan/Data/research/python_tweets.json'"
      ]
     },
     "execution_count": 18,
     "metadata": {},
     "output_type": "execute_result"
    }
   ],
   "source": [
    "import os\n",
    "output_filename = os.path.join(os.path.expanduser(\"~\"), \"Data\", \"research\", \"python_tweets.json\")\n",
    "output_filename"
   ]
  },
  {
   "cell_type": "code",
   "execution_count": 19,
   "metadata": {
    "collapsed": false
   },
   "outputs": [],
   "source": [
    "import json\n",
    "t = twitter.Twitter(auth=authorization)"
   ]
  },
  {
   "cell_type": "code",
   "execution_count": 20,
   "metadata": {
    "collapsed": false
   },
   "outputs": [],
   "source": [
    "# open output file for writing (appending)\n",
    "with open(output_filename, 'a') as output_file:\n",
    "    search_results = t.search.tweets(q=\"python-filter:retweets\", lang=\"en\", count=100)['statuses']\n",
    "    for tweet in search_results:\n",
    "        if 'text' in tweet:\n",
    "            output_file.write(json.dumps(tweet))\n",
    "            output_file.write(\"\\n\\n\")"
   ]
  }
 ],
 "metadata": {
  "kernelspec": {
   "display_name": "Python 3",
   "language": "python",
   "name": "python3"
  },
  "language_info": {
   "codemirror_mode": {
    "name": "ipython",
    "version": 3
   },
   "file_extension": ".py",
   "mimetype": "text/x-python",
   "name": "python",
   "nbconvert_exporter": "python",
   "pygments_lexer": "ipython3",
   "version": "3.4.2"
  }
 },
 "nbformat": 4,
 "nbformat_minor": 0
}
