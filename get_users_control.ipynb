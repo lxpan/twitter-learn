{
 "cells": [
  {
   "cell_type": "code",
   "execution_count": 1,
   "metadata": {},
   "outputs": [],
   "source": [
    "import twitter\n",
    "consumer_key = \"Your consumer key\"\n",
    "consumer_secret = \"Your consumer secret\"\n",
    "access_token = \"Your access token\"\n",
    "access_token_secret = \"Your access token secret\"\n",
    "\n",
    "# token, token_key, con_secret, con_secret_key\n",
    "authorization = twitter.OAuth(access_token, access_token_secret, consumer_key, consumer_secret)\n",
    "t = twitter.Twitter(auth=authorization)"
   ]
  },
  {
   "cell_type": "code",
   "execution_count": 2,
   "metadata": {},
   "outputs": [],
   "source": [
    "import os\n",
    "import json\n",
    "data_folder = os.path.join(os.path.expanduser(\"~\"), \"Data\", \"research\")\n",
    "tweets_output_filename = os.path.join(data_folder, \"control_3.json\")"
   ]
  },
  {
   "cell_type": "code",
   "execution_count": 3,
   "metadata": {},
   "outputs": [],
   "source": [
    "original_users = []\n",
    "tweets = []\n",
    "user_ids = {}\n",
    "\n",
    "search_results = t.search.tweets(q=\"the-filter:retweets\", lang=\"en\", count=50)['statuses']\n",
    "for tweet in search_results:\n",
    "    if 'text' in tweet:\n",
    "        # record screen name, tweet's text and mapping of tweet to user\n",
    "        original_users.append(tweet['user']['screen_name'])\n",
    "        user_ids[tweet['user']['screen_name']] = tweet['user']['id']\n",
    "        tweets.append(tweet['text'])"
   ]
  },
  {
   "cell_type": "code",
   "execution_count": 4,
   "metadata": {},
   "outputs": [],
   "source": [
    "relevant_tweets = tweets\n",
    "relevant_users = original_users"
   ]
  },
  {
   "cell_type": "code",
   "execution_count": 5,
   "metadata": {},
   "outputs": [],
   "source": [
    "# print(\"Relevant users: \" + str(len(relevant_users)))\n",
    "# relevant_users"
   ]
  },
  {
   "cell_type": "code",
   "execution_count": 6,
   "metadata": {},
   "outputs": [
    {
     "name": "stdout",
     "output_type": "stream",
     "text": [
      "Unique users: 50\n"
     ]
    },
    {
     "data": {
      "text/plain": [
       "array(['1BookCSUS', '94hesalmighty', 'AAPNAInfotech', 'Apepp', 'BookRiot',\n",
       "       'BrittanyLynnMa2', 'DelfinaRoloff15', 'EP_33_HG', 'ElitekitchenLtd',\n",
       "       'Emi_Saeed', 'EwokCuddles', 'GRANTedCHAOS28', 'JerrieAlexander',\n",
       "       'Jo_rosario10', 'KMADrunner', 'Keaton_J', 'LL_15', 'MLBTickets1',\n",
       "       'Misfit_Damian', 'Mrs2Smith', 'NawazMurshed', 'NomadicRunner45',\n",
       "       'QuaterHorseBred', 'RadiantlyLiving', 'Riccard50947189',\n",
       "       'Ro_newspad', 'ScottCarelli', 'SoniaObserver', 'Taylor_Mcneelyy',\n",
       "       'ZeeTVRetweets', '__Ssur', 'adstwi', 'anthony_sal89',\n",
       "       'aussierapmikey', 'austintdavis', 'biggballler56', 'chrkchrkchrk',\n",
       "       'daily_trust', 'daveshrein', 'edwinsibutha', 'elisabeth_emery',\n",
       "       'fabregasatilio3', 'fmmnet', 'iamghost17', 'izunsapolidoro4',\n",
       "       'narryciaa', 'pizzafeign', 'therealcruxit', 'wallstreetscope',\n",
       "       'xoxo_riaa'], \n",
       "      dtype='<U15')"
      ]
     },
     "execution_count": 6,
     "output_type": "execute_result",
     "metadata": {}
    }
   ],
   "source": [
    "# todo: from each unique user, retrieve 120 unique (non-RT?) tweets\n",
    "\n",
    "import numpy as np\n",
    "unique_users = np.unique(relevant_users)\n",
    "print(\"Unique users: \" + str(len(unique_users)))\n",
    "unique_users"
   ]
  },
  {
   "cell_type": "code",
   "execution_count": 7,
   "metadata": {},
   "outputs": [],
   "source": [
    "# gets 120 of user's most recent tweets\n",
    "import time\n",
    "def get_tweets(user, count):\n",
    "    try:\n",
    "        results = [tweet['text'] for tweet in t.statuses.user_timeline(screen_name=user, count=count) if tweet['text']]\n",
    "    except TypeError as e:\n",
    "        if results is None:\n",
    "            print(\"You probably reached your API limit, waiting for 5 minutes\") \n",
    "            sys.stdout.flush()\n",
    "            time.sleep(5*60)\n",
    "        else:\n",
    "            raise e\n",
    "    except twitter.TwitterHTTPError as e:\n",
    "        pass\n",
    "    finally:\n",
    "        print(\"User: \" + user + \" has been fetched.\\n\")\n",
    "        time.sleep(60) \n",
    "    return results"
   ]
  },
  {
   "cell_type": "code",
   "execution_count": 8,
   "metadata": {},
   "outputs": [
    {
     "name": "stdout",
     "output_type": "stream",
     "text": [
      "User: 1BookCSUS has been fetched.\n",
      "\n",
      "User: 94hesalmighty has been fetched.\n",
      "\n",
      "User: AAPNAInfotech has been fetched.\n",
      "\n",
      "User: Apepp has been fetched.\n",
      "\n",
      "User: BookRiot has been fetched.\n",
      "\n",
      "User: BrittanyLynnMa2 has been fetched.\n",
      "\n",
      "User: DelfinaRoloff15 has been fetched.\n",
      "\n",
      "User: EP_33_HG has been fetched.\n",
      "\n",
      "User: ElitekitchenLtd has been fetched.\n",
      "\n",
      "User: Emi_Saeed has been fetched.\n",
      "\n",
      "User: EwokCuddles has been fetched.\n",
      "\n",
      "User: GRANTedCHAOS28 has been fetched.\n",
      "\n",
      "User: JerrieAlexander has been fetched.\n",
      "\n",
      "User: Jo_rosario10 has been fetched.\n",
      "\n",
      "User: KMADrunner has been fetched.\n",
      "\n",
      "User: Keaton_J has been fetched.\n",
      "\n",
      "User: LL_15 has been fetched.\n",
      "\n",
      "User: MLBTickets1 has been fetched.\n",
      "\n",
      "User: Misfit_Damian has been fetched.\n",
      "\n",
      "User: Mrs2Smith has been fetched.\n",
      "\n",
      "User: NawazMurshed has been fetched.\n",
      "\n",
      "User: NomadicRunner45 has been fetched.\n",
      "\n",
      "User: QuaterHorseBred has been fetched.\n",
      "\n",
      "User: RadiantlyLiving has been fetched.\n",
      "\n",
      "User: Riccard50947189 has been fetched.\n",
      "\n",
      "User: Ro_newspad has been fetched.\n",
      "\n",
      "User: ScottCarelli has been fetched.\n",
      "\n",
      "User: SoniaObserver has been fetched.\n",
      "\n",
      "User: Taylor_Mcneelyy has been fetched.\n",
      "\n",
      "User: ZeeTVRetweets has been fetched.\n",
      "\n",
      "User: __Ssur has been fetched.\n",
      "\n",
      "User: adstwi has been fetched.\n",
      "\n",
      "User: anthony_sal89 has been fetched.\n",
      "\n",
      "User: aussierapmikey has been fetched.\n",
      "\n",
      "User: austintdavis has been fetched.\n",
      "\n",
      "User: biggballler56 has been fetched.\n",
      "\n",
      "User: chrkchrkchrk has been fetched.\n",
      "\n",
      "User: daily_trust has been fetched.\n",
      "\n",
      "User: daveshrein has been fetched.\n",
      "\n",
      "User: edwinsibutha has been fetched.\n",
      "\n",
      "User: elisabeth_emery has been fetched.\n",
      "\n",
      "User: fabregasatilio3 has been fetched.\n",
      "\n",
      "User: fmmnet has been fetched.\n",
      "\n",
      "User: iamghost17 has been fetched.\n",
      "\n",
      "User: izunsapolidoro4 has been fetched.\n",
      "\n",
      "User: narryciaa has been fetched.\n",
      "\n",
      "User: pizzafeign has been fetched.\n",
      "\n",
      "User: therealcruxit has been fetched.\n",
      "\n",
      "User: wallstreetscope has been fetched.\n",
      "\n",
      "User: xoxo_riaa has been fetched.\n",
      "\n"
     ]
    }
   ],
   "source": [
    "tweets = {}\n",
    "# only consider unique users\n",
    "for screen_name in unique_users: \n",
    "    tweets[screen_name] = get_tweets(screen_name, 120)"
   ]
  },
  {
   "cell_type": "code",
   "execution_count": 9,
   "metadata": {},
   "outputs": [
    {
     "data": {
      "text/plain": [
       "50"
      ]
     },
     "execution_count": 9,
     "output_type": "execute_result",
     "metadata": {}
    }
   ],
   "source": [
    "# save dict to file\n",
    "import json\n",
    "with open(tweets_output_filename, 'w') as fp:\n",
    "    json.dump(tweets, fp)\n",
    "\n",
    "# Consider pruning false positives from twitter disambiguation? (users)\n",
    "len(tweets)"
   ]
  }
 ],
 "metadata": {
  "kernelspec": {
   "display_name": "Python 3",
   "language": "python",
   "name": "python3"
  },
  "language_info": {
   "codemirror_mode": {
    "name": "ipython",
    "version": 3
   },
   "file_extension": ".py",
   "mimetype": "text/x-python",
   "name": "python",
   "nbconvert_exporter": "python",
   "pygments_lexer": "ipython3",
   "version": "3.4.2"
  }
 },
 "nbformat": 4,
 "nbformat_minor": 0
}