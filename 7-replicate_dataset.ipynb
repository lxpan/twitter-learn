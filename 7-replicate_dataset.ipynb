{
 "cells": [
  {
   "cell_type": "code",
   "execution_count": 7,
   "metadata": {
    "collapsed": false
   },
   "outputs": [
    {
     "name": "stdout",
     "output_type": "stream",
     "text": [
      "/Users/lpan/Data/research/replicable_python_tweets.json /Users/lpan/Data/research/replicable_python_classes.json /Users/lpan/Data/research/replicable_dataset.json\n"
     ]
    }
   ],
   "source": [
    "# Create a twitter server to collect all the tweets by ID\n",
    "\n",
    "import os\n",
    "tweet_filename = os.path.join(os.path.expanduser(\"~\"), \"Data\", \"research\", \"replicable_python_tweets.json\")\n",
    "labels_filename = os.path.join(os.path.expanduser(\"~\"), \"Data\", \"research\", \"replicable_python_classes.json\")\n",
    "replicable_dataset = os.path.join(os.path.expanduser(\"~\"), \"Data\", \"research\", \"replicable_dataset.json\")\n",
    "\n",
    "print(tweet_filename, labels_filename, replicable_dataset)"
   ]
  },
  {
   "cell_type": "code",
   "execution_count": 8,
   "metadata": {
    "collapsed": true
   },
   "outputs": [],
   "source": [
    "import json\n",
    "with open(replicable_dataset) as inf:\n",
    "    tweet_ids = json.load(inf)"
   ]
  },
  {
   "cell_type": "code",
   "execution_count": 9,
   "metadata": {
    "collapsed": true
   },
   "outputs": [],
   "source": [
    "actual_labels = []\n",
    "label_mapping = dict(tweet_ids)"
   ]
  },
  {
   "cell_type": "code",
   "execution_count": 10,
   "metadata": {
    "collapsed": true
   },
   "outputs": [],
   "source": [
    "import twitter\n",
    "consumer_key = \"Your consumer key\"\n",
    "consumer_secret = \"Your consumer secret\"\n",
    "access_token = \"Your access token\"\n",
    "access_token_secret = \"Your access token secret\"\n",
    "authorization = twitter.OAuth(access_token, access_token_secret, consumer_key, consumer_secret)\n",
    "t = twitter.Twitter(auth=authorization)"
   ]
  },
  {
   "cell_type": "code",
   "execution_count": 11,
   "metadata": {
    "collapsed": true
   },
   "outputs": [],
   "source": [
    "all_ids = [tweet_id for tweet_id, label in tweet_ids]"
   ]
  },
  {
   "cell_type": "code",
   "execution_count": 12,
   "metadata": {
    "collapsed": false
   },
   "outputs": [],
   "source": [
    "with open(tweet_filename, 'a') as output_file:\n",
    "    # twitter only allow retrieval of 100 tweets at a time\n",
    "    for start_index in range(0, len(tweet_ids), 100):\n",
    "        # join all the IDs in this batch together\n",
    "        id_string = \",\".join(str(i) for i in all_ids[start_index:start_index+100])\n",
    "        # Perform status/lookup API call to have tweets returned to us\n",
    "        search_results = t.statuses.lookup(_id=id_string)\n",
    "        # for each tweet from search results, save it to our file (as originally)\n",
    "        for tweet in search_results:\n",
    "            if 'text' in tweet:\n",
    "                output_file.write(json.dumps(tweet))\n",
    "                output_file.write(\"\\n\\n\")\n",
    "                # store labeling of tweet\n",
    "                actual_labels.append(label_mapping[tweet['id']])"
   ]
  }
 ],
 "metadata": {
  "kernelspec": {
   "display_name": "Python 3",
   "language": "python",
   "name": "python3"
  },
  "language_info": {
   "codemirror_mode": {
    "name": "ipython",
    "version": 3
   },
   "file_extension": ".py",
   "mimetype": "text/x-python",
   "name": "python",
   "nbconvert_exporter": "python",
   "pygments_lexer": "ipython3",
   "version": "3.4.2"
  }
 },
 "nbformat": 4,
 "nbformat_minor": 0
}